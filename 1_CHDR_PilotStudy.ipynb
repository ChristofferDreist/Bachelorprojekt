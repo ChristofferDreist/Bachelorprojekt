{
 "cells": [
  {
   "cell_type": "code",
   "execution_count": null,
   "id": "9f0ef696",
   "metadata": {},
   "outputs": [],
   "source": [
    "# Imports & Paths\n",
    "import pandas as pd\n",
    "import numpy as np\n",
    "import matplotlib.pyplot as plt\n",
    "\n",
    "CHOICE_SET_PATH = r'C:\\Users\\Chris\\Desktop\\DTU\\8. Semester\\Bachelorprojekt-1\\Data\\Final\\choice_set_Final_1_15_Sep23.csv'\n",
    "STOPS_PATH      = r'C:\\Users\\Chris\\Desktop\\DTU\\8. Semester\\Bachelorprojekt-1\\Data\\GTFS_20230925\\stops.txt'\n"
   ]
  },
  {
   "cell_type": "code",
   "execution_count": null,
   "id": "75cabd99",
   "metadata": {},
   "outputs": [],
   "source": [
    "# Load trips & mark M3 availability \n",
    "trips = pd.read_csv(CHOICE_SET_PATH)\n",
    "\n",
    "# Flag every (OD, route) row that contains an M3 leg\n",
    "trips['has_M3'] = trips['RuteIdSeq'].str.contains(r'\\bM3\\b', regex=True)\n",
    "\n",
    "# Identify ODs where at least one alternative uses M3\n",
    "ods_with_m3 = trips.loc[trips['has_M3'], 'OD'].unique()\n"
   ]
  },
  {
   "cell_type": "code",
   "execution_count": null,
   "id": "63d139c2",
   "metadata": {},
   "outputs": [],
   "source": [
    "# Compute M3 share per OD\n",
    "chosen = trips[trips['choice'] == 1]\n",
    "\n",
    "agg = (\n",
    "    chosen\n",
    "    .groupby('OD')['has_M3']\n",
    "    .agg(total_trips='size', m3_trips='sum')\n",
    ")\n",
    "agg['share_m3'] = agg['m3_trips'] / agg['total_trips']\n",
    "\n",
    "# Keep only ODs with an M3 option and more than 80 trips\n",
    "agg = agg.loc[agg.index.isin(ods_with_m3) & (agg['total_trips'] >= 80)]\n"
   ]
  },
  {
   "cell_type": "code",
   "execution_count": null,
   "id": "86477006",
   "metadata": {},
   "outputs": [],
   "source": [
    "# Split into bands & visualize\n",
    "bins   = [-0.01, 0.10, 0.50, 0.90, 1.01]\n",
    "labels = ['<10%', '10–50%', '50–90%', '>90%']\n",
    "agg['band'] = pd.cut(agg['share_m3'], bins=bins, labels=labels)\n",
    "\n",
    "# Print counts of each band\n",
    "counts = agg['band'].value_counts().sort_index()\n",
    "print(\"ODs per M3-share band:\\n\", counts)\n",
    "\n"
   ]
  },
  {
   "cell_type": "code",
   "execution_count": null,
   "id": "f286aadb",
   "metadata": {},
   "outputs": [],
   "source": [
    "# Sampling (3 ODs per band)\n",
    "np.random.seed(42)\n",
    "sampled = (\n",
    "    agg\n",
    "    .groupby('band', group_keys=False)\n",
    "    .apply(lambda df: df.sample(n=3) if len(df) >= 3 else df)\n",
    "    .reset_index()\n",
    ")\n"
   ]
  },
  {
   "cell_type": "code",
   "execution_count": null,
   "id": "346eb760",
   "metadata": {},
   "outputs": [],
   "source": [
    "# Map to station names & display final table\n",
    "stops = (\n",
    "    pd.read_csv(STOPS_PATH, dtype={'stop_id': str})\n",
    "      .assign(stop_id=lambda d: d['stop_id'].str.zfill(12))\n",
    "      .set_index('stop_id')['stop_name']\n",
    "      .to_dict()\n",
    ")\n",
    "\n",
    "# Split OD into origin/destination codes\n",
    "sampled[['orig_id','dest_id']] = sampled['OD'].str.split('-', expand=True)\n",
    "for c in ['orig_id','dest_id']:\n",
    "    sampled[c] = sampled[c].str.zfill(12)\n",
    "\n",
    "# Map codes to names (fallback to code if missing)\n",
    "sampled['orig_name'] = sampled['orig_id'].map(stops).fillna(sampled['orig_id'])\n",
    "sampled['dest_name'] = sampled['dest_id'].map(stops).fillna(sampled['dest_id'])\n",
    "\n",
    "final_cols = ['OD','orig_name','dest_name','total_trips','m3_trips','share_m3','band']\n",
    "print(\"Stratified sample of viable ODs:\\n\")\n",
    "print(sampled[final_cols].to_string(index=False))\n"
   ]
  }
 ],
 "metadata": {
  "kernelspec": {
   "display_name": "bachelorprojekt",
   "language": "python",
   "name": "python3"
  },
  "language_info": {
   "codemirror_mode": {
    "name": "ipython",
    "version": 3
   },
   "file_extension": ".py",
   "mimetype": "text/x-python",
   "name": "python",
   "nbconvert_exporter": "python",
   "pygments_lexer": "ipython3",
   "version": "3.11.11"
  }
 },
 "nbformat": 4,
 "nbformat_minor": 5
}
