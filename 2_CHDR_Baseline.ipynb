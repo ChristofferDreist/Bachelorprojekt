{
 "cells": [
  {
   "cell_type": "markdown",
   "id": "d9ef4a12",
   "metadata": {},
   "source": [
    "# Notebook: Single‐Pick Baseline Route‐Choice Heuristics\n",
    "\n",
    "Implement four simple, single‐pick heuristics as lower‐bound benchmarks.  Each journey (`Obs_ID`) gets exactly **one** predicted route:\n",
    "\n",
    "- **Baseline A**: Fastest travel‐time (random tie‐break)  \n",
    "- **Baseline B**: Fastest, then fewest transfers (random tie‐break)  \n",
    "- **Baseline C**: Fewest transfers only (random tie‐break)  \n",
    "- **Baseline D**: Fewest transfers, then fastest time (random tie‐break)\n",
    "\n",
    "We’ll compute **choice‐set accuracy** for each to compare fairly against our Random Forest.\n"
   ]
  },
  {
   "cell_type": "code",
   "execution_count": null,
   "id": "d7d43d24",
   "metadata": {},
   "outputs": [],
   "source": [
    "import pandas as pd\n",
    "import numpy as np\n",
    "\n",
    "# Load the feature table (must include 'Obs_ID','TT_total','transfers','choice')\n",
    "df = pd.read_parquet('features_final.parquet')\n",
    "\n",
    "# Show key columns\n",
    "print(\"Columns:\", df.columns.tolist())\n",
    "print(df[['Obs_ID','TT_total','transfers','choice']].head())\n"
   ]
  },
  {
   "cell_type": "markdown",
   "id": "a4f4d535",
   "metadata": {},
   "source": [
    "# Baseline A – Fastest‐Only\n",
    "\n"
   ]
  },
  {
   "cell_type": "code",
   "execution_count": null,
   "id": "943d26f0",
   "metadata": {},
   "outputs": [],
   "source": [
    "def choice_set_accuracy(df, pred_col):\n",
    "    \"\"\"\n",
    "    Computes the fraction of journeys where the single predicted\n",
    "    alternative (pred_col == 1) matches the true choice.\n",
    "    \"\"\"\n",
    "    hits = []\n",
    "    for oid, group in df.groupby('Obs_ID'):\n",
    "        true_idx = group.index[group['choice']==1][0]\n",
    "        hits.append(bool(group.loc[true_idx, pred_col]))\n",
    "    return sum(hits) / len(hits)\n"
   ]
  },
  {
   "cell_type": "code",
   "execution_count": null,
   "id": "763b5255",
   "metadata": {},
   "outputs": [],
   "source": [
    "# Seed for reproducible random tie‐breaks\n",
    "RANDOM_STATE = 42\n"
   ]
  },
  {
   "cell_type": "code",
   "execution_count": null,
   "id": "d285cc0f",
   "metadata": {},
   "outputs": [],
   "source": [
    "def pick_fastest(group):\n",
    "    fastest = group[group['TT_total'] == group['TT_total'].min()]\n",
    "    return fastest.sample(n=1, random_state=RANDOM_STATE).index[0]\n",
    "\n",
    "# Apply per journey\n",
    "best_fastest_idx = df.groupby('Obs_ID').apply(pick_fastest)\n",
    "df['pred_fastest'] = 0\n",
    "df.loc[best_fastest_idx, 'pred_fastest'] = 1\n",
    "\n",
    "# Evaluate\n",
    "acc_fastest = choice_set_accuracy(df, 'pred_fastest')\n",
    "print(f\"Baseline A (Fastest‐only): {acc_fastest:.3%}\")\n"
   ]
  },
  {
   "cell_type": "code",
   "execution_count": null,
   "id": "3dc88c9d",
   "metadata": {},
   "outputs": [],
   "source": [
    "def pick_fastest_then_fewest(group):\n",
    "    fastest = group[group['TT_total'] == group['TT_total'].min()]\n",
    "    fewest = fastest[fastest['transfers'] == fastest['transfers'].min()]\n",
    "    return fewest.sample(n=1, random_state=RANDOM_STATE).index[0]\n",
    "\n",
    "best_fastest_trans_idx = df.groupby('Obs_ID').apply(pick_fastest_then_fewest)\n",
    "df['pred_fastest_trans'] = 0\n",
    "df.loc[best_fastest_trans_idx, 'pred_fastest_trans'] = 1\n",
    "\n",
    "acc_fastest_trans = choice_set_accuracy(df, 'pred_fastest_trans')\n",
    "print(f\"Baseline B (Fastest → Fewest transfers): {acc_fastest_trans:.3%}\")\n"
   ]
  },
  {
   "cell_type": "code",
   "execution_count": null,
   "id": "f8cc353d",
   "metadata": {},
   "outputs": [],
   "source": [
    "def pick_fewest_transfers(group):\n",
    "    fewest = group[group['transfers'] == group['transfers'].min()]\n",
    "    return fewest.sample(n=1, random_state=RANDOM_STATE).index[0]\n",
    "\n",
    "best_fewest_idx = df.groupby('Obs_ID').apply(pick_fewest_transfers)\n",
    "df['pred_fewest_trans'] = 0\n",
    "df.loc[best_fewest_idx, 'pred_fewest_trans'] = 1\n",
    "\n",
    "acc_fewest_trans = choice_set_accuracy(df, 'pred_fewest_trans')\n",
    "print(f\"Baseline C (Fewest transfers only): {acc_fewest_trans:.3%}\")\n"
   ]
  },
  {
   "cell_type": "code",
   "execution_count": null,
   "id": "bc519629",
   "metadata": {},
   "outputs": [],
   "source": [
    "def pick_fewest_then_fastest(group):\n",
    "    fewest = group[group['transfers'] == group['transfers'].min()]\n",
    "    fastest = fewest[fewest['TT_total'] == fewest['TT_total'].min()]\n",
    "    return fastest.sample(n=1, random_state=RANDOM_STATE).index[0]\n",
    "\n",
    "best_fewest_then_fastest_idx = df.groupby('Obs_ID').apply(pick_fewest_then_fastest)\n",
    "df['pred_fewest_then_fastest'] = 0\n",
    "df.loc[best_fewest_then_fastest_idx, 'pred_fewest_then_fastest'] = 1\n",
    "\n",
    "acc_fewest_then_fastest = choice_set_accuracy(df, 'pred_fewest_then_fastest')\n",
    "print(f\"Baseline D (Fewest transfers → Shortest time): {acc_fewest_then_fastest:.3%}\")\n"
   ]
  },
  {
   "cell_type": "code",
   "execution_count": null,
   "id": "3fb5cde4",
   "metadata": {},
   "outputs": [],
   "source": [
    "# CSummary of Baseline Performance\n",
    "\n",
    "print(\"Baseline Choice‐Set Accuracies\")\n",
    "print(f\"A: Fastest‐only                     {acc_fastest:.2%}\")\n",
    "print(f\"B: Fastest → Fewest transfers      {acc_fastest_trans:.2%}\")\n",
    "print(f\"C: Fewest transfers only           {acc_fewest_trans:.2%}\")\n",
    "print(f\"D: Fewest transfers → Shortest TT  {acc_fewest_then_fastest:.2%}\")\n"
   ]
  }
 ],
 "metadata": {
  "kernelspec": {
   "display_name": "bachelorprojekt",
   "language": "python",
   "name": "python3"
  },
  "language_info": {
   "codemirror_mode": {
    "name": "ipython",
    "version": 3
   },
   "file_extension": ".py",
   "mimetype": "text/x-python",
   "name": "python",
   "nbconvert_exporter": "python",
   "pygments_lexer": "ipython3",
   "version": "3.11.11"
  }
 },
 "nbformat": 4,
 "nbformat_minor": 5
}
