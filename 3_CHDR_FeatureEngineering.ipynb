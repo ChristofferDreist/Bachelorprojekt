{
 "cells": [
  {
   "cell_type": "markdown",
   "id": "9738a0cb",
   "metadata": {},
   "source": [
    "# Data Load\n"
   ]
  },
  {
   "cell_type": "code",
   "execution_count": null,
   "id": "1aac6936",
   "metadata": {},
   "outputs": [],
   "source": [
    "import pandas as pd\n",
    "\n",
    "CHOICE_SET_CSV = r'C:\\Users\\Chris\\Desktop\\DTU\\8. Semester\\Bachelorprojekt-1\\Data\\Final\\choice_set_Final_1_15_Sep23.csv'\n",
    "CHOSEN_CSV     = r'C:\\Users\\Chris\\Desktop\\DTU\\8. Semester\\Bachelorprojekt-1\\Data\\Final\\df_Sep1_15_SEP23_MORNING.csv'\n",
    "\n",
    "# Read both files and merge on the unique trip key “turngl”\n",
    "df_choices = pd.read_csv(CHOICE_SET_CSV)\n",
    "df_chosen  = pd.read_csv(CHOSEN_CSV, parse_dates=['Start_Time'])\n",
    "\n",
    "df = (\n",
    "    df_choices\n",
    "    .merge(df_chosen[['turngl','Start_Time']], on='turngl', how='left')\n",
    ")\n"
   ]
  },
  {
   "cell_type": "markdown",
   "id": "21831426",
   "metadata": {},
   "source": [
    "# Absolute Travel‐Time & Transfers\n",
    "\n",
    "Total in-vehicle + walking time, plus raw transfers.\n",
    "These are the “cost” measures.\n"
   ]
  },
  {
   "cell_type": "code",
   "execution_count": null,
   "id": "74cae594",
   "metadata": {},
   "outputs": [],
   "source": [
    "# In-vehicle + walking → total travel time\n",
    "tt_cols = ['sum_TT_Bus','sum_TT_Metro','sum_TT_Tog','sum_TT_Stog']\n",
    "df['in_vehicle_time'] = df[tt_cols].sum(axis=1)\n",
    "df['walking_time']    = df['WalkingTime']\n",
    "df['TT_total']        = df['in_vehicle_time'] + df['walking_time']\n",
    "\n",
    "# Number of transfers\n",
    "df['transfers'] = df['transfers_upd']\n"
   ]
  },
  {
   "cell_type": "markdown",
   "id": "edb68ab1",
   "metadata": {},
   "source": [
    "# Relative Travel‐Time, Transfers & Walking\n",
    "\n",
    "Normalize each cost within the same journey (Obs_ID) to a [0–1] scale\n"
   ]
  },
  {
   "cell_type": "code",
   "execution_count": null,
   "id": "ba262315",
   "metadata": {},
   "outputs": [],
   "source": [
    "# Group by journey\n",
    "g = df.groupby('Obs_ID')\n",
    "\n",
    "# Excess TT relative to the fastest alt\n",
    "df['best_TT']   = g['TT_total'].transform('min')\n",
    "df['excess_TT'] = df['TT_total'] - df['best_TT']\n",
    "df['rel_TT']    = df['excess_TT'] / (\n",
    "                    g['TT_total'].transform('max') - df['best_TT']\n",
    "                 )\n",
    "\n",
    "# Normalized transfers\n",
    "df['rel_transfers'] = (\n",
    "    (df['transfers'] - g['transfers'].transform('min'))\n",
    "    / (g['transfers'].transform('max') - g['transfers'].transform('min'))\n",
    ")\n",
    "\n",
    "# Normalized walking\n",
    "df['rel_walk'] = (\n",
    "    (df['walking_time'] - g['walking_time'].transform('min'))\n",
    "    / (g['walking_time'].transform('max') - g['walking_time'].transform('min'))\n",
    ")\n",
    "\n",
    "# Drop intermediates we no longer need\n",
    "df.drop(columns=['best_TT'], inplace=True)\n"
   ]
  },
  {
   "cell_type": "markdown",
   "id": "ea46c68d",
   "metadata": {},
   "source": [
    "# Service Frequency & Relative Frequency\n",
    "\n",
    "Routes with more frequent service are more attractive.\n",
    "Headway-based frequency and its relative position.\n"
   ]
  },
  {
   "cell_type": "code",
   "execution_count": null,
   "id": "babe0b71",
   "metadata": {},
   "outputs": [],
   "source": [
    "# Absolute frequency (trips per hour)\n",
    "df['freq_per_hr'] = 60.0 / df['first_headway']\n",
    "\n",
    "# Normalize within journey\n",
    "df['rel_freq'] = (\n",
    "    (df['freq_per_hr'] - g['freq_per_hr'].transform('min'))\n",
    "    / (g['freq_per_hr'].transform('max') - g['freq_per_hr'].transform('min'))\n",
    ")\n"
   ]
  },
  {
   "cell_type": "markdown",
   "id": "ff37e2f1",
   "metadata": {},
   "source": [
    "# Cityringen Usage Indicator\n",
    "\n",
    "Instead of origin‐on‐M3 (constant), we flag *each* alternative by whether it *uses* the Cityringen.\n"
   ]
  },
  {
   "cell_type": "code",
   "execution_count": null,
   "id": "9ff43478",
   "metadata": {},
   "outputs": [],
   "source": [
    "df['uses_M3'] = df['RuteIdSeq'].str.contains(r'\\bM3\\b', regex=True).astype(int)\n"
   ]
  },
  {
   "cell_type": "markdown",
   "id": "2a68bc37",
   "metadata": {},
   "source": [
    "# Modal One-Hots\n",
    "\n",
    "Capture the most common mode‐combinations explicitly.\n"
   ]
  },
  {
   "cell_type": "code",
   "execution_count": null,
   "id": "bc128340",
   "metadata": {},
   "outputs": [],
   "source": [
    "top5 = df['ModalKomb'].value_counts().nlargest(5).index\n",
    "for combo in top5:\n",
    "    safe = combo.replace('+','_').replace('-','_')\n",
    "    df[f'mode_{safe}'] = (df['ModalKomb'] == combo).astype(int)\n"
   ]
  },
  {
   "cell_type": "markdown",
   "id": "e0d337ad",
   "metadata": {},
   "source": [
    "# Interaction Features\n",
    "\n",
    "Build a small set of within-set interactions that reflect conditional trade-offs:\n",
    "- **rel_TT × rel_transfers**  \n",
    "- **rel_TT × rel_freq**  \n",
    "- **uses_M3 × rel_TT**  \n",
    "- **rel_transfers × rel_walk**\n"
   ]
  },
  {
   "cell_type": "code",
   "execution_count": null,
   "id": "780af24e",
   "metadata": {},
   "outputs": [],
   "source": [
    "df['rel_TT_x_rel_transfers'] = df['rel_TT'] * df['rel_transfers']\n",
    "df['uses_M3_x_rel_TT']       = df['uses_M3'] * df['rel_TT']\n",
    "df['rel_transfers_x_rel_walk'] = df['rel_transfers'] * df['rel_walk']\n",
    "\n"
   ]
  },
  {
   "cell_type": "markdown",
   "id": "8cbac149",
   "metadata": {},
   "source": [
    "# Preview Selected Features\n",
    "\n",
    "Show summary stats for our final feature set before exporting.\n"
   ]
  },
  {
   "cell_type": "code",
   "execution_count": null,
   "id": "a634f564",
   "metadata": {},
   "outputs": [],
   "source": [
    "feature_cols = [\n",
    "    # absolute & relative costs\n",
    "    'TT_total','excess_TT','rel_TT',\n",
    "    # transfers\n",
    "    'transfers','rel_transfers',\n",
    "    # walking\n",
    "    'walking_time','rel_walk',\n",
    "    # frequency\n",
    "    'freq_per_hr','rel_freq',\n",
    "    # Cityringen usage\n",
    "    'uses_M3','uses_M3_x_rel_TT',\n",
    "    # mode identity\n",
    "] + [f\"mode_{c.replace('+','_').replace('-','_')}\" for c in top5] + [\n",
    "    # interactions\n",
    "    'rel_TT_x_rel_transfers','rel_TT_x_rel_freq','rel_transfers_x_rel_walk'\n",
    "]\n",
    "\n",
    "print(\"Final feature summary:\\n\", df[feature_cols].describe().T)\n"
   ]
  },
  {
   "cell_type": "markdown",
   "id": "24cda161",
   "metadata": {},
   "source": [
    "# Save Features for Modeling\n",
    "\n",
    "Export as Parquet so the Random Forest / Neural Net notebook can load it directly.\n"
   ]
  },
  {
   "cell_type": "code",
   "execution_count": null,
   "id": "0f38e70d",
   "metadata": {},
   "outputs": [],
   "source": [
    "df_model = df[feature_cols + ['choice','OD','Obs_ID']].copy()\n",
    "df_model.to_parquet('features_final.parquet', index=False)\n",
    "print(f\"Saved {len(feature_cols)} features + metadata to 'features_final.parquet'\")\n"
   ]
  },
  {
   "cell_type": "markdown",
   "id": "72fc29d4",
   "metadata": {},
   "source": [
    "# Short discussion on interaction features:\n",
    "## rel_TT_x_rel_transfers\n",
    "This captures how travel time and number of transfers aren't totally separate in a rider’s experience. A route that’s both slower and requires more transfers feels extra inconvenient. But sometimes, riders are willing to make an extra transfer if it saves time—this interaction helps the model pick up on those kinds of trade-offs.\n",
    "\n",
    "## rel_TT_x_rel_freq\n",
    "This tests if travel time penalties matter less when the service is very frequent. For instance, adding 2 minutes to a train that comes every 2 minutes might not bother most people. But on a bus that only shows up every 20 minutes, that same delay can seriously hurt its appeal.\n",
    "\n",
    "## rel_transfers_x_rel_walk\n",
    "Here we’re looking at the combo of transferring and walking. One transfer with a long walk might be more annoying than two transfers with short walks. This feature helps the model pick up on those subtle differences and better reflect how people actually experience these trips."
   ]
  }
 ],
 "metadata": {
  "kernelspec": {
   "display_name": "bachelorprojekt",
   "language": "python",
   "name": "python3"
  },
  "language_info": {
   "codemirror_mode": {
    "name": "ipython",
    "version": 3
   },
   "file_extension": ".py",
   "mimetype": "text/x-python",
   "name": "python",
   "nbconvert_exporter": "python",
   "pygments_lexer": "ipython3",
   "version": "3.11.11"
  }
 },
 "nbformat": 4,
 "nbformat_minor": 5
}
